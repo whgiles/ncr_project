{
 "cells": [
  {
   "cell_type": "code",
   "execution_count": 69,
   "id": "4776192a",
   "metadata": {},
   "outputs": [],
   "source": [
    "import pandas as pd\n",
    "import numpy as np\n",
    "import matplotlib.pyplot as plt\n",
    "data_path = \"../data/MSA_Practicum_Data_v1.0/\""
   ]
  },
  {
   "cell_type": "markdown",
   "id": "18676d40",
   "metadata": {},
   "source": [
    "### Accounts\n",
    "No missing values"
   ]
  },
  {
   "cell_type": "code",
   "execution_count": 84,
   "id": "e8756354",
   "metadata": {},
   "outputs": [
    {
     "name": "stdout",
     "output_type": "stream",
     "text": [
      "shape: (75252, 3)\n"
     ]
    },
    {
     "data": {
      "text/html": [
       "<div>\n",
       "<style scoped>\n",
       "    .dataframe tbody tr th:only-of-type {\n",
       "        vertical-align: middle;\n",
       "    }\n",
       "\n",
       "    .dataframe tbody tr th {\n",
       "        vertical-align: top;\n",
       "    }\n",
       "\n",
       "    .dataframe thead th {\n",
       "        text-align: right;\n",
       "    }\n",
       "</style>\n",
       "<table border=\"1\" class=\"dataframe\">\n",
       "  <thead>\n",
       "    <tr style=\"text-align: right;\">\n",
       "      <th></th>\n",
       "      <th>global_transaction_id</th>\n",
       "      <th>ticket_num</th>\n",
       "      <th>account_num_hash</th>\n",
       "    </tr>\n",
       "  </thead>\n",
       "  <tbody>\n",
       "    <tr>\n",
       "      <th>0</th>\n",
       "      <td>000000000002</td>\n",
       "      <td>2529</td>\n",
       "      <td>07137282970344898644</td>\n",
       "    </tr>\n",
       "    <tr>\n",
       "      <th>1</th>\n",
       "      <td>000000000004</td>\n",
       "      <td>2531</td>\n",
       "      <td>01006825571181167519</td>\n",
       "    </tr>\n",
       "    <tr>\n",
       "      <th>2</th>\n",
       "      <td>000000000005</td>\n",
       "      <td>2532</td>\n",
       "      <td>04778982719252047857</td>\n",
       "    </tr>\n",
       "    <tr>\n",
       "      <th>3</th>\n",
       "      <td>000000000006</td>\n",
       "      <td>2533</td>\n",
       "      <td>01006825571181167519</td>\n",
       "    </tr>\n",
       "    <tr>\n",
       "      <th>4</th>\n",
       "      <td>000000000015</td>\n",
       "      <td>2542</td>\n",
       "      <td>13744291601319509904</td>\n",
       "    </tr>\n",
       "  </tbody>\n",
       "</table>\n",
       "</div>"
      ],
      "text/plain": [
       "  global_transaction_id ticket_num      account_num_hash\n",
       "0          000000000002       2529  07137282970344898644\n",
       "1          000000000004       2531  01006825571181167519\n",
       "2          000000000005       2532  04778982719252047857\n",
       "3          000000000006       2533  01006825571181167519\n",
       "4          000000000015       2542  13744291601319509904"
      ]
     },
     "execution_count": 84,
     "metadata": {},
     "output_type": "execute_result"
    }
   ],
   "source": [
    "account_data = pd.read_csv(data_path + \"accounts.csv\", dtype=str)\n",
    "print(f\"shape: {account_data.shape}\")\n",
    "account_data.head()"
   ]
  },
  {
   "cell_type": "markdown",
   "id": "110a8a57",
   "metadata": {},
   "source": [
    "### Transaction Data\n",
    "No missing values"
   ]
  },
  {
   "cell_type": "code",
   "execution_count": 102,
   "id": "f98f3dd1",
   "metadata": {},
   "outputs": [
    {
     "name": "stdout",
     "output_type": "stream",
     "text": [
      "shape: (124934, 8)\n"
     ]
    },
    {
     "data": {
      "text/html": [
       "<div>\n",
       "<style scoped>\n",
       "    .dataframe tbody tr th:only-of-type {\n",
       "        vertical-align: middle;\n",
       "    }\n",
       "\n",
       "    .dataframe tbody tr th {\n",
       "        vertical-align: top;\n",
       "    }\n",
       "\n",
       "    .dataframe thead th {\n",
       "        text-align: right;\n",
       "    }\n",
       "</style>\n",
       "<table border=\"1\" class=\"dataframe\">\n",
       "  <thead>\n",
       "    <tr style=\"text-align: right;\">\n",
       "      <th></th>\n",
       "      <th>global_transaction_id</th>\n",
       "      <th>store_num</th>\n",
       "      <th>ticket_num</th>\n",
       "      <th>date</th>\n",
       "      <th>transaction_start_time</th>\n",
       "      <th>transaction_end_time</th>\n",
       "      <th>num_items</th>\n",
       "      <th>ticket_total_value</th>\n",
       "    </tr>\n",
       "  </thead>\n",
       "  <tbody>\n",
       "    <tr>\n",
       "      <th>0</th>\n",
       "      <td>000000000000</td>\n",
       "      <td>000003</td>\n",
       "      <td>2527</td>\n",
       "      <td>2020-07-01</td>\n",
       "      <td>07:03:30</td>\n",
       "      <td>07:03:45</td>\n",
       "      <td>4</td>\n",
       "      <td>296</td>\n",
       "    </tr>\n",
       "    <tr>\n",
       "      <th>1</th>\n",
       "      <td>000000000001</td>\n",
       "      <td>000003</td>\n",
       "      <td>2528</td>\n",
       "      <td>2020-07-01</td>\n",
       "      <td>07:04:22</td>\n",
       "      <td>07:04:35</td>\n",
       "      <td>10</td>\n",
       "      <td>300</td>\n",
       "    </tr>\n",
       "    <tr>\n",
       "      <th>2</th>\n",
       "      <td>000000000002</td>\n",
       "      <td>000003</td>\n",
       "      <td>2529</td>\n",
       "      <td>2020-07-01</td>\n",
       "      <td>07:04:55</td>\n",
       "      <td>07:06:15</td>\n",
       "      <td>2</td>\n",
       "      <td>373</td>\n",
       "    </tr>\n",
       "    <tr>\n",
       "      <th>3</th>\n",
       "      <td>000000000003</td>\n",
       "      <td>000003</td>\n",
       "      <td>2530</td>\n",
       "      <td>2020-07-01</td>\n",
       "      <td>07:06:22</td>\n",
       "      <td>07:06:46</td>\n",
       "      <td>7</td>\n",
       "      <td>862</td>\n",
       "    </tr>\n",
       "    <tr>\n",
       "      <th>4</th>\n",
       "      <td>000000000004</td>\n",
       "      <td>000003</td>\n",
       "      <td>2531</td>\n",
       "      <td>2020-07-01</td>\n",
       "      <td>07:08:13</td>\n",
       "      <td>07:08:54</td>\n",
       "      <td>0</td>\n",
       "      <td>0</td>\n",
       "    </tr>\n",
       "  </tbody>\n",
       "</table>\n",
       "</div>"
      ],
      "text/plain": [
       "  global_transaction_id store_num ticket_num       date  \\\n",
       "0          000000000000    000003       2527 2020-07-01   \n",
       "1          000000000001    000003       2528 2020-07-01   \n",
       "2          000000000002    000003       2529 2020-07-01   \n",
       "3          000000000003    000003       2530 2020-07-01   \n",
       "4          000000000004    000003       2531 2020-07-01   \n",
       "\n",
       "  transaction_start_time transaction_end_time  num_items  ticket_total_value  \n",
       "0               07:03:30             07:03:45          4                 296  \n",
       "1               07:04:22             07:04:35         10                 300  \n",
       "2               07:04:55             07:06:15          2                 373  \n",
       "3               07:06:22             07:06:46          7                 862  \n",
       "4               07:08:13             07:08:54          0                   0  "
      ]
     },
     "execution_count": 102,
     "metadata": {},
     "output_type": "execute_result"
    }
   ],
   "source": [
    "transaction_data = pd.read_csv(data_path + \"transactions.csv\", dtype=str)\n",
    "transaction_data['num_items'] = pd.to_numeric(transaction_data.num_items)\n",
    "transaction_data['ticket_total_value'] = pd.to_numeric(transaction_data.ticket_total_value)\n",
    "transaction_data['date'] = pd.to_datetime(transaction_data.date)\n",
    "print(f\"shape: {transaction_data.shape}\")\n",
    "transaction_data.head()"
   ]
  },
  {
   "cell_type": "markdown",
   "id": "e04ff5cf",
   "metadata": {},
   "source": [
    "### Items in Transaction\n",
    "No missing values"
   ]
  },
  {
   "cell_type": "code",
   "execution_count": 108,
   "id": "2bb8b7b3",
   "metadata": {},
   "outputs": [
    {
     "name": "stdout",
     "output_type": "stream",
     "text": [
      "shape: (1293520, 9)\n"
     ]
    },
    {
     "data": {
      "text/html": [
       "<div>\n",
       "<style scoped>\n",
       "    .dataframe tbody tr th:only-of-type {\n",
       "        vertical-align: middle;\n",
       "    }\n",
       "\n",
       "    .dataframe tbody tr th {\n",
       "        vertical-align: top;\n",
       "    }\n",
       "\n",
       "    .dataframe thead th {\n",
       "        text-align: right;\n",
       "    }\n",
       "</style>\n",
       "<table border=\"1\" class=\"dataframe\">\n",
       "  <thead>\n",
       "    <tr style=\"text-align: right;\">\n",
       "      <th></th>\n",
       "      <th>global_transaction_id</th>\n",
       "      <th>item_id</th>\n",
       "      <th>dept_num</th>\n",
       "      <th>qty_sold</th>\n",
       "      <th>item_price</th>\n",
       "      <th>qty_is_weight</th>\n",
       "      <th>ticket_num</th>\n",
       "      <th>date</th>\n",
       "      <th>time_scanned</th>\n",
       "    </tr>\n",
       "  </thead>\n",
       "  <tbody>\n",
       "    <tr>\n",
       "      <th>0</th>\n",
       "      <td>000000000000</td>\n",
       "      <td>00000000004889</td>\n",
       "      <td>6</td>\n",
       "      <td>3</td>\n",
       "      <td>99</td>\n",
       "      <td>0</td>\n",
       "      <td>2527</td>\n",
       "      <td>2020-07-01</td>\n",
       "      <td>07:03:30</td>\n",
       "    </tr>\n",
       "    <tr>\n",
       "      <th>1</th>\n",
       "      <td>000000000000</td>\n",
       "      <td>00000000003125</td>\n",
       "      <td>6</td>\n",
       "      <td>460</td>\n",
       "      <td>429</td>\n",
       "      <td>1</td>\n",
       "      <td>2527</td>\n",
       "      <td>2020-07-01</td>\n",
       "      <td>07:03:34</td>\n",
       "    </tr>\n",
       "    <tr>\n",
       "      <th>2</th>\n",
       "      <td>000000000001</td>\n",
       "      <td>00000000000005</td>\n",
       "      <td>20</td>\n",
       "      <td>4</td>\n",
       "      <td>100</td>\n",
       "      <td>0</td>\n",
       "      <td>2528</td>\n",
       "      <td>2020-07-01</td>\n",
       "      <td>07:04:22</td>\n",
       "    </tr>\n",
       "    <tr>\n",
       "      <th>3</th>\n",
       "      <td>000000000001</td>\n",
       "      <td>00000000000002</td>\n",
       "      <td>20</td>\n",
       "      <td>6</td>\n",
       "      <td>100</td>\n",
       "      <td>0</td>\n",
       "      <td>2528</td>\n",
       "      <td>2020-07-01</td>\n",
       "      <td>07:04:25</td>\n",
       "    </tr>\n",
       "    <tr>\n",
       "      <th>4</th>\n",
       "      <td>000000000002</td>\n",
       "      <td>00007013201045</td>\n",
       "      <td>1</td>\n",
       "      <td>1</td>\n",
       "      <td>299</td>\n",
       "      <td>0</td>\n",
       "      <td>2529</td>\n",
       "      <td>2020-07-01</td>\n",
       "      <td>07:05:06</td>\n",
       "    </tr>\n",
       "  </tbody>\n",
       "</table>\n",
       "</div>"
      ],
      "text/plain": [
       "  global_transaction_id         item_id  dept_num  qty_sold  item_price  \\\n",
       "0          000000000000  00000000004889         6         3          99   \n",
       "1          000000000000  00000000003125         6       460         429   \n",
       "2          000000000001  00000000000005        20         4         100   \n",
       "3          000000000001  00000000000002        20         6         100   \n",
       "4          000000000002  00007013201045         1         1         299   \n",
       "\n",
       "   qty_is_weight ticket_num       date time_scanned  \n",
       "0              0       2527 2020-07-01     07:03:30  \n",
       "1              1       2527 2020-07-01     07:03:34  \n",
       "2              0       2528 2020-07-01     07:04:22  \n",
       "3              0       2528 2020-07-01     07:04:25  \n",
       "4              0       2529 2020-07-01     07:05:06  "
      ]
     },
     "execution_count": 108,
     "metadata": {},
     "output_type": "execute_result"
    }
   ],
   "source": [
    "item_transaction_data = pd.read_csv(data_path + \"items_transactions.csv\", dtype=str)\n",
    "item_transaction_data['dept_num'] = pd.to_numeric(item_transaction_data.dept_num)\n",
    "item_transaction_data['qty_sold'] = pd.to_numeric(item_transaction_data.qty_sold)\n",
    "item_transaction_data['item_price'] = pd.to_numeric(item_transaction_data.item_price)\n",
    "item_transaction_data['qty_is_weight'] = pd.to_numeric(item_transaction_data.qty_is_weight)\n",
    "item_transaction_data['date'] = pd.to_datetime(item_transaction_data.date)\n",
    "\n",
    "print(f\"shape: {item_transaction_data.shape}\")\n",
    "\n",
    "item_transaction_data.head()"
   ]
  },
  {
   "cell_type": "markdown",
   "id": "9beca262",
   "metadata": {},
   "source": [
    "### Item Descriptions\n",
    "36885 ecomm missing values\n",
    "1516 unique catagories"
   ]
  },
  {
   "cell_type": "code",
   "execution_count": 73,
   "id": "7bba5bc2",
   "metadata": {},
   "outputs": [
    {
     "name": "stdout",
     "output_type": "stream",
     "text": [
      "shape: (48551, 6)\n"
     ]
    },
    {
     "data": {
      "text/html": [
       "<div>\n",
       "<style scoped>\n",
       "    .dataframe tbody tr th:only-of-type {\n",
       "        vertical-align: middle;\n",
       "    }\n",
       "\n",
       "    .dataframe tbody tr th {\n",
       "        vertical-align: top;\n",
       "    }\n",
       "\n",
       "    .dataframe thead th {\n",
       "        text-align: right;\n",
       "    }\n",
       "</style>\n",
       "<table border=\"1\" class=\"dataframe\">\n",
       "  <thead>\n",
       "    <tr style=\"text-align: right;\">\n",
       "      <th></th>\n",
       "      <th>item_id</th>\n",
       "      <th>description</th>\n",
       "      <th>ecomm_description</th>\n",
       "      <th>category</th>\n",
       "      <th>item_type</th>\n",
       "      <th>upc</th>\n",
       "    </tr>\n",
       "  </thead>\n",
       "  <tbody>\n",
       "    <tr>\n",
       "      <th>0</th>\n",
       "      <td>00000000000001</td>\n",
       "      <td>PAN DULCE SENCILLO</td>\n",
       "      <td>Mexican Sweet Bread/Pan Dulce Mexicano, 1 Count</td>\n",
       "      <td>020101020</td>\n",
       "      <td>0</td>\n",
       "      <td>00000000000010</td>\n",
       "    </tr>\n",
       "    <tr>\n",
       "      <th>1</th>\n",
       "      <td>00000000000002</td>\n",
       "      <td>BOLILLO FRENCH ROLLS</td>\n",
       "      <td>Bolillo, French Rolls, 1 Count</td>\n",
       "      <td>020101210</td>\n",
       "      <td>0</td>\n",
       "      <td>00000000000020</td>\n",
       "    </tr>\n",
       "    <tr>\n",
       "      <th>2</th>\n",
       "      <td>00000000000003</td>\n",
       "      <td>BOLILLO QUESO/CHILE JALAP</td>\n",
       "      <td>Jalapeño and Cheese Bolillo, 1 Count</td>\n",
       "      <td>020101210</td>\n",
       "      <td>0</td>\n",
       "      <td>00000000000030</td>\n",
       "    </tr>\n",
       "    <tr>\n",
       "      <th>3</th>\n",
       "      <td>00000000000004</td>\n",
       "      <td>EMPANADA</td>\n",
       "      <td>NaN</td>\n",
       "      <td>020101020</td>\n",
       "      <td>0</td>\n",
       "      <td>00000000000040</td>\n",
       "    </tr>\n",
       "    <tr>\n",
       "      <th>4</th>\n",
       "      <td>00000000000005</td>\n",
       "      <td>MIni Bolillo</td>\n",
       "      <td>BOLILLO SMALL, 2 OZ</td>\n",
       "      <td>020101210</td>\n",
       "      <td>0</td>\n",
       "      <td>00000000000050</td>\n",
       "    </tr>\n",
       "  </tbody>\n",
       "</table>\n",
       "</div>"
      ],
      "text/plain": [
       "          item_id                description  \\\n",
       "0  00000000000001         PAN DULCE SENCILLO   \n",
       "1  00000000000002       BOLILLO FRENCH ROLLS   \n",
       "2  00000000000003  BOLILLO QUESO/CHILE JALAP   \n",
       "3  00000000000004                   EMPANADA   \n",
       "4  00000000000005               MIni Bolillo   \n",
       "\n",
       "                                 ecomm_description   category item_type  \\\n",
       "0  Mexican Sweet Bread/Pan Dulce Mexicano, 1 Count  020101020         0   \n",
       "1                   Bolillo, French Rolls, 1 Count  020101210         0   \n",
       "2             Jalapeño and Cheese Bolillo, 1 Count  020101210         0   \n",
       "3                                              NaN  020101020         0   \n",
       "4                              BOLILLO SMALL, 2 OZ  020101210         0   \n",
       "\n",
       "              upc  \n",
       "0  00000000000010  \n",
       "1  00000000000020  \n",
       "2  00000000000030  \n",
       "3  00000000000040  \n",
       "4  00000000000050  "
      ]
     },
     "execution_count": 73,
     "metadata": {},
     "output_type": "execute_result"
    }
   ],
   "source": [
    "item_descriptions_data = pd.read_csv(data_path + \"items_descriptions.csv\", dtype=str)\n",
    "print(f\"shape: {item_descriptions_data.shape}\")\n",
    "item_descriptions_data.head()"
   ]
  },
  {
   "cell_type": "code",
   "execution_count": 74,
   "id": "7976261f",
   "metadata": {},
   "outputs": [
    {
     "data": {
      "text/plain": [
       "0      44432\n",
       "30      2052\n",
       "12       640\n",
       "16       603\n",
       "14       391\n",
       "15       213\n",
       "101      141\n",
       "102       37\n",
       "31        18\n",
       "7         14\n",
       "8          9\n",
       "17         1\n",
       "Name: item_type, dtype: int64"
      ]
     },
     "execution_count": 74,
     "metadata": {},
     "output_type": "execute_result"
    }
   ],
   "source": [
    "len(item_descriptions_data.category.unique())\n",
    "item_descriptions_data['item_type'].value_counts()\n"
   ]
  },
  {
   "cell_type": "code",
   "execution_count": 109,
   "id": "bfd48566",
   "metadata": {},
   "outputs": [
    {
     "data": {
      "text/plain": [
       "count    941908.000000\n",
       "mean        298.895562\n",
       "std         445.707479\n",
       "min      -35078.000000\n",
       "25%          99.000000\n",
       "50%         199.000000\n",
       "75%         399.000000\n",
       "max       40000.000000\n",
       "Name: revenue, dtype: float64"
      ]
     },
     "execution_count": 109,
     "metadata": {},
     "output_type": "execute_result"
    }
   ],
   "source": [
    "df = item_transaction_data[['qty_sold', 'item_price']].loc[item_transaction_data['qty_is_weight']==0]\n",
    "df['revenue'] = df['qty_sold'] * df['item_price']\n",
    "\n",
    "df.revenue.describe()"
   ]
  },
  {
   "cell_type": "code",
   "execution_count": null,
   "id": "e82c5255",
   "metadata": {},
   "outputs": [],
   "source": []
  },
  {
   "cell_type": "code",
   "execution_count": null,
   "id": "7f818cb2",
   "metadata": {},
   "outputs": [],
   "source": []
  }
 ],
 "metadata": {
  "kernelspec": {
   "display_name": "venv",
   "language": "python",
   "name": "venv"
  },
  "language_info": {
   "codemirror_mode": {
    "name": "ipython",
    "version": 3
   },
   "file_extension": ".py",
   "mimetype": "text/x-python",
   "name": "python",
   "nbconvert_exporter": "python",
   "pygments_lexer": "ipython3",
   "version": "3.9.10"
  }
 },
 "nbformat": 4,
 "nbformat_minor": 5
}
